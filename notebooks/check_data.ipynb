{
 "cells": [
  {
   "cell_type": "markdown",
   "metadata": {},
   "source": [
    "# Data Health Check"
   ]
  },
  {
   "cell_type": "code",
   "execution_count": null,
   "metadata": {},
   "outputs": [],
   "source": [
    "import duckdb\n",
    "import pandas as pd\n",
    "import os\n",
    "from IPython.display import display, Markdown\n",
    "\n",
    "pd.set_option('display.max_rows', 100)\n",
    "\n",
    "# --- Database Connection ---\n",
    "db_path = os.path.join('..', 'data', 'real_estate.duckdb')\n",
    "db_connected = False\n",
    "table_exists = False\n",
    "con = None\n",
    "db_error = None\n",
    "\n",
    "try:\n",
    "    con = duckdb.connect(database=db_path, read_only=True)\n",
    "    db_connected = True\n",
    "    # Check if the 'listings' table exists\n",
    "    tables = con.execute(\"SHOW TABLES;\").fetchdf()\n",
    "    if 'listings' in tables['name'].values:\n",
    "        table_exists = True\n",
    "    else:\n",
    "        db_error = \"Table 'listings' not found in the database.\"\n",
    "except Exception as e:\n",
    "    db_error = f\"An error occurred: {e}\\"\n",
    "\n",
    "# --- Display Connection Status ---\n",
    "if db_connected and table_exists:\n",
    "    display(Markdown(f\"## ✅ Database Connected Successfully\\nConnected to `{os.path.abspath(db_path)}` and `listings` table found.\"))\n",
    "else:\n",
    "    display(Markdown(f\"## ❌ Connection/Table Error\\n**Path:** `{os.path.abspath(db_path)}`\\n**Error:** `{db_error}`\"))"
   ]
  },
  {
   "cell_type": "markdown",
   "metadata": {},
   "source": [
    "## Listings Table Schema"
   ]
  },
  {
   "cell_type": "code",
   "execution_count": null,
   "metadata": {},
   "outputs": [],
   "source": [
    "if table_exists:\n",
    "    schema = con.execute(\"DESCRIBE listings;\").fetchdf()\n",
    "    display(Markdown(\"**Table Schema:**\"))\n",
    "    display(schema)\n",
    "else:\n",
    "    display(Markdown(\"Cannot describe table: `listings` table not found.\"))"
   ]
  },
  {
   "cell_type": "markdown",
   "metadata": {},
   "source": [
    "## Data Quality Check"
   ]
  },
  {
   "cell_type": "code",
   "execution_count": null,
   "metadata": {},
   "outputs": [],
   "source": [
    "if table_exists:\n",
    "    total_rows = con.execute('SELECT COUNT(*) FROM listings').fetchone()[0]\n",
    "    display(Markdown(f\"**Total Rows in `listings` table:** {total_rows}\"))\n",
    "\n",
    "    # Null value analysis\n",
    "    null_counts_query = \"\"\"\n",
    "    SELECT \n",
    "        SUM(CASE WHEN id IS NULL THEN 1 ELSE 0 END) AS null_id,\n",
    "        SUM(CASE WHEN city IS NULL THEN 1 ELSE 0 END) AS null_city,\n",
    "        SUM(CASE WHEN address IS NULL THEN 1 ELSE 0 END) AS null_address,\n",
    "        SUM(CASE WHEN postal_code IS NULL THEN 1 ELSE 0 END) AS null_postal_code,\n",
    "        SUM(CASE WHEN price_eur IS NULL THEN 1 ELSE 0 END) AS null_price,\n",
    "        SUM(CASE WHEN size_m2 IS NULL THEN 1 ELSE 0 END) AS null_size\n",
    "    FROM listings;\n",
    "    \"\"\"\n",
    "    null_df = con.execute(null_counts_query).fetchdf()\n",
    "    display(Markdown(\"**Null Value Counts:**\"))\n",
    "    display(null_df.transpose().rename(columns={0: 'Null Count'}))\n",
    "else:\n",
    "    display(Markdown(\"Cannot perform data quality check: `listings` table not found.\"))"
   ]
  },
  {
   "cell_type": "markdown",
   "metadata": {},
   "source": [
    "## Sample Data"
   ]
  },
  {
   "cell_type": "code",
   "execution_count": null,
   "metadata": {},
   "outputs": [],
   "source": [
    "if table_exists:\n",
    "    sample_df = con.execute(\"SELECT * FROM listings LIMIT 10;\").fetchdf()\n",
    "    display(Markdown(\"**10 Sample Rows from `listings`:**\"))\n",
    "    display(sample_df)\n",
    "else:\n",
    "    display(Markdown(\"Cannot fetch sample data: `listings` table not found.\"))"
   ]
  },
  {
   "cell_type": "markdown",
   "metadata": {},
   "source": [
    "## Listings per City"
   ]
  },
  {
   "cell_type": "code",
   "execution_count": null,
   "metadata": {},
   "outputs": [],
   "source": [
    "if table_exists:\n",
    "    city_counts = con.execute(\"\"\"\n",
    "        SELECT city, COUNT(*) as listing_count\n",
    "        FROM listings\n",
    "        GROUP BY city\n",
    "        ORDER BY listing_count DESC;\n",
    "    \"\"\"\").fetchdf()\n",
    "    display(Markdown(\"**Total Listings per City:**\"))\n",
    "    display(city_counts)\n",
    "else:\n",
    "    display(Markdown(\"Cannot count listings: `listings` table not found.\"))"
   ]
  }
 ],
 "metadata": {
  "kernelspec": {
   "display_name": "Python 3 (ipykernel)",
   "language": "python",
   "name": "python3"
  },
  "language_info": {
   "codemirror_mode": {
    "name": "ipython",
    "version": 3
   },
   "file_extension": ".py",
   "mimetype": "text/x-python",
   "name": "python",
   "nbconvert_exporter": "python",
   "pygments_lexer": "ipython3",
   "version": "3.9.13"
  }
 },
 "nbformat": 4,
 "nbformat_minor": 4
}