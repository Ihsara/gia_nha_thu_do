{
 "cells": [
  {
   "cell_type": "markdown",
   "metadata": {},
   "source": [
    "# Helsinki Property Visualization"
   ]
  },
  {
   "cell_type": "markdown",
   "metadata": {},
   "source": [
    "This notebook visualizes property data for Helsinki, using data from the National Land Survey of Finland. It demonstrates how to load, filter, and plot geospatial data with a map background."
   ]
  },
  {
   "cell_type": "code",
   "execution_count": null,
   "metadata": {},
   "outputs": [],
   "source": [
    "import geopandas as gpd\n",
    "import matplotlib.pyplot as plt\n",
    "import os\n",
    "import contextily as cx\n",
    "import fiona\n",
    "import duckdb\n",
    "from shapely import wkt\n",
    "from IPython.display import display, Markdown\n",
    "\n",
    "# --- Configuration ---\n",
    "DB_PATH = os.path.join('..', 'data', 'real_estate.duckdb')\n",
    "PROPERTIES_TABLE_NAME = 'helsinki_properties'\n",
    "gpkg_path = os.path.join('..', 'data', 'open', 'kiinteistorekisterikartta.gpkg')\n",
    "municipality_zip_path = os.path.join('..', 'data', 'open', 'TietoaKuntajaosta_2025_10k.zip')\n",
    "helsinki_municipality_name = 'Helsinki'"
   ]
  },
  {
   "cell_type": "markdown",
   "metadata": {},
   "source": [
    "## 1. Load Helsinki Data"
   ]
  },
  {
   "cell_type": "code",
   "execution_count": null,
   "metadata": {},
   "outputs": [],
   "source": [
    "def load_from_db():\n",
    "    with duckdb.connect(DB_PATH) as con:\n",
    "        tables = con.execute(\"SHOW TABLES;\").fetchdf()\n",
    "        if PROPERTIES_TABLE_NAME not in tables['name'].values:\n",
    "            return None\n",
    "        df = con.execute(f'SELECT * FROM {PROPERTIES_TABLE_NAME}').fetchdf()\n",
    "    df['geometry'] = df['geometry_wkt'].apply(wkt.loads)\n",
    "    return gpd.GeoDataFrame(df, geometry='geometry')\n",
    "\n",
    "def load_from_file():\n",
    "    with fiona.open(f'zip://{municipality_zip_path}') as collection:\n",
    "        municipalities = gpd.GeoDataFrame.from_features(collection, crs=collection.crs)\n",
    "    helsinki = municipalities[municipalities['namefin'] == helsinki_municipality_name]\n",
    "    helsinki_boundary = helsinki.geometry.union_all()\n",
    "    \n",
    "    gdf_kiinteisto = gpd.read_file(gpkg_path, layer='KiinteistorajanSijaintitiedot')\n",
    "    return gdf_kiinteisto[gdf_kiinteisto.within(helsinki_boundary)]\n",
    "\n",
    "helsinki_properties = load_from_db()\n",
    "\n",
    "if helsinki_properties is None:\n",
    "    display(Markdown('## ⚠️ Could not load data from the database. Falling back to loading from source files.\nFor better performance, run `python prepare_geospatial_data.py` first.'))\n",
    "else:\n",
    "    display(Markdown('## ✅ Successfully loaded data from the database.'))\n",
    "\n",
    "display(Markdown(f'Loaded **{len(helsinki_properties)}** features for Helsinki.'))"
   ]
  },
  {
   "cell_type": "markdown",
   "metadata": {},
   "source": [
    "## 2. Visualize Two Random Properties"
   ]
  },
  {
   "cell_type": "code",
   "execution_count": null,
   "metadata": {},
   "outputs": [],
   "source": [
    "def plot_property(gdf, title):\n",
    "    property_to_plot = gdf.sample(n=1, random_state=None)\n",
    "    fig, ax = plt.subplots(1, 1, figsize=(10, 10))\n",
    "    property_to_plot.to_crs(epsg=3857).plot(ax=ax, alpha=0.5, edgecolor='k')\n",
    "    cx.add_basemap(ax, source=cx.providers.CartoDB.Positron)\n",
    "    ax.set_title(title)\n",
    "    ax.set_axis_off()\n",
    "    plt.show()\n",
    "\n",
    "if 'helsinki_properties' in locals() and not helsinki_properties.empty:\n",
    "    plot_property(helsinki_properties, 'Random Property 1')\n",
    "    plot_property(helsinki_properties, 'Random Property 2')"
   ]
  },
  {
   "cell_type": "markdown",
   "metadata": {},
   "source": [
    "## 3. Visualize Properties within a Random Postal Code Area"
   ]
  },
  {
   "cell_type": "code",
   "execution_count": null,
   "metadata": {},
   "outputs": [],
   "source": [
    "if 'helsinki_properties' in locals() and not helsinki_properties.empty:\n",
    "    # This is a placeholder for actual postal code data\n",
    "    # In a real scenario, you would load a postal code shapefile for Helsinki\n",
    "    postal_codes_gdf = gpd.read_file(gpd.datasets.get_path('nybb')) # Using a sample dataset for now\n",
    "    random_postal_code = postal_codes_gdf.sample(n=1, random_state=42)\n",
    "    \n",
    "    # Find properties within the random postal code area\n",
    "    properties_in_postal_code = helsinki_properties[helsinki_properties.within(random_postal_code.union_all())]\n",
    "    \n",
    "    if not properties_in_postal_code.empty:\n",
    "        fig, ax = plt.subplots(1, 1, figsize=(12, 12))\n",
    "        properties_in_postal_code.to_crs(epsg=3857).plot(ax=ax, alpha=0.7, edgecolor='blue', facecolor='lightblue')\n",
    "        random_postal_code.to_crs(epsg=3857).plot(ax=ax, facecolor='none', edgecolor='red', linewidth=2)\n",
    "        cx.add_basemap(ax, source=cx.providers.CartoDB.Positron)\n",
    "        ax.set_title(f'Properties within Postal Code: {random_postal_code.BoroName.iloc[0]}')\n",
    "        ax.set_axis_off()\n",
    "        plt.show()\n",
    "    else:\n",
    "        display(Markdown('No properties found in the selected random postal code area.'))"
   ]
  },
  {
   "cell_type": "markdown",
   "metadata": {},
   "source": [
    "## ✅ Verification Cell"
   ]
  },
  {
   "cell_type": "code",
   "execution_count": null,
   "metadata": {},
   "outputs": [],
   "source": [
    "display(Markdown('## ✅ Notebook Executed Successfully'))"
   ]
  }
 ],
 "metadata": {
  "kernelspec": {
   "display_name": "Python 3 (ipykernel)",
   "language": "python",
   "name": "python3"
  },
  "language_info": {
   "codemirror_mode": {
    "name": "ipython",
    "version": 3
   },
   "file_extension": ".py",
   "mimetype": "text/x-python",
   "name": "python",
   "nbconvert_exporter": "python",
   "pygments_lexer": "ipython3",
   "version": "3.9.13"
  }
 },
 "nbformat": 4,
 "nbformat_minor": 4
}