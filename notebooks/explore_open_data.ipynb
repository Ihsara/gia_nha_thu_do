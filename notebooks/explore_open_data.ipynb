{
 "cells": [
  {
   "cell_type": "markdown",
   "metadata": {},
   "source": [
    "# Helsinki Property Visualization"
   ]
  },
  {
   "cell_type": "markdown",
   "metadata": {},
   "source": [
    "This notebook visualizes property data for Helsinki, using data from the National Land Survey of Finland. It demonstrates how to load, filter, and plot geospatial data with a map background."
   ]
  },
  {
   "cell_type": "code",
   "execution_count": null,
   "metadata": {},
   "outputs": [],
   "source": [
    "import geopandas as gpd\n",
    "import matplotlib.pyplot as plt\n",
    "import os\n",
    "import contextily as cx\n",
    "import fiona\n",
    "from IPython.display import display, Markdown\n",
    "\n",
    "# --- Configuration ---\n",
    "gpkg_path = os.path.join('..', 'data', 'open', 'kiinteistorekisterikartta.gpkg')\n",
    "municipality_zip_path = os.path.join('..', 'data', 'open', 'TietoaKuntajaosta_2025_10k.zip')\n",
    "helsinki_municipality_name = 'Helsinki'\n",
    "\n",
    "file_exists = os.path.exists(gpkg_path) and os.path.exists(municipality_zip_path)\n",
    "\n",
    "if not file_exists:\n",
    "    display(Markdown('## ❌ Data Files Not Found\\nPlease ensure both `kiinteistorekisterikartta.gpkg` and `TietoaKuntajaosta_2025_10k.zip` are in the `data/open` directory.'))\n",
    "else:\n",
    "    display(Markdown('## ✅ All Data Files Found'))"
   ]
  },
  {
   "cell_type": "markdown",
   "metadata": {},
   "source": [
    "## 1. Load and Filter Helsinki Data"
   ]
  },
  {
   "cell_type": "code",
   "execution_count": null,
   "metadata": {},
   "outputs": [],
   "source": [
    "def get_helsinki_boundary():\n",
    "    with fiona.open(f'zip://{municipality_zip_path}') as collection:\n",
    "        municipalities = gpd.GeoDataFrame.from_features(collection, crs=collection.crs)\n",
    "    helsinki = municipalities[municipalities['namefin'] == helsinki_municipality_name]\n",
    "    return helsinki.geometry.union_all()\n",
    "\n",
    "if file_exists:\n",
    "    try:\n",
    "        helsinki_boundary = get_helsinki_boundary()\n",
    "        \n",
    "        # Load the two layers of interest\n",
    "        gdf_kiinteisto = gpd.read_file(gpkg_path, layer='KiinteistorajanSijaintitiedot')\n",
    "        gdf_palsta = gpd.read_file(gpkg_path, layer='PalstanSijaintitiedot')\n",
    "        \n",
    "        # Filter for Helsinki\n",
    "        helsinki_kiinteisto = gdf_kiinteisto[gdf_kiinteisto.within(helsinki_boundary)]\n",
    "        helsinki_palsta = gdf_palsta[gdf_palsta.within(helsinki_boundary)]\n",
    "        \n",
    "        display(Markdown(f'Loaded **{len(helsinki_kiinteisto)}** `KiinteistorajanSijaintitiedot` features for Helsinki.'))\n",
    "        display(Markdown(f'Loaded **{len(helsinki_palsta)}** `PalstanSijaintitiedot` features for Helsinki.'))\n",
    "        \n",
    "    except Exception as e:\n",
    "        display(Markdown(f'### Error loading data: {e}'))"
   ]
  },
  {
   "cell_type": "markdown",
   "metadata": {},
   "source": [
    "## 2. Visualize Two Random Properties"
   ]
  },
  {
   "cell_type": "code",
   "execution_count": null,
   "metadata": {},
   "outputs": [],
   "source": [
    "def plot_property(gdf, title):\n",
    "    property_to_plot = gdf.sample(n=1, random_state=None)\n",
    "    fig, ax = plt.subplots(1, 1, figsize=(10, 10))\n",
    "    property_to_plot.to_crs(epsg=3857).plot(ax=ax, alpha=0.5, edgecolor='k')\n",
    "    cx.add_basemap(ax, source=cx.providers.CartoDB.Positron)\n",
    "    ax.set_title(title)\n",
    "    ax.set_axis_off()\n",
    "    plt.show()\n",
    "\n",
    "if 'helsinki_kiinteisto' in locals() and not helsinki_kiinteisto.empty:\n",
    "    plot_property(helsinki_kiinteisto, 'Random Property from KiinteistorajanSijaintitiedot')\n",
    "\n",
    "if 'helsinki_palsta' in locals() and not helsinki_palsta.empty:\n",
    "    plot_property(helsinki_palsta, 'Random Property from PalstanSijaintitiedot')"
   ]
  },
  {
   "cell_type": "markdown",
   "metadata": {},
   "source": [
    "## 3. Visualize Properties within a Random Postal Code Area"
   ]
  },
  {
   "cell_type": "code",
   "execution_count": null,
   "metadata": {},
   "outputs": [],
   "source": [
    "if 'helsinki_palsta' in locals() and not helsinki_palsta.empty:\n",
    "    # This is a placeholder for actual postal code data\n",
    "    # In a real scenario, you would load a postal code shapefile\n",
    "    postal_codes_gdf = gpd.read_file(gpd.datasets.get_path('nybb')) # Using a sample dataset for now\n",
    "    random_postal_code = postal_codes_gdf.sample(n=1, random_state=42)\n",
    "    \n",
    "    # Find properties within the random postal code area\n",
    "    properties_in_postal_code = helsinki_palsta[helsinki_palsta.within(random_postal_code.union_all())]\n",
    "    \n",
    "    if not properties_in_postal_code.empty:\n",
    "        fig, ax = plt.subplots(1, 1, figsize=(12, 12))\n",
    "        properties_in_postal_code.to_crs(epsg=3857).plot(ax=ax, alpha=0.7, edgecolor='blue', facecolor='lightblue')\n",
    "        random_postal_code.to_crs(epsg=3857).plot(ax=ax, facecolor='none', edgecolor='red', linewidth=2)\n",
    "        cx.add_basemap(ax, source=cx.providers.CartoDB.Positron)\n",
    "        ax.set_title(f'Properties within Postal Code: {random_postal_code.BoroName.iloc[0]}')\n",
    "        ax.set_axis_off()\n",
    "        plt.show()\n",
    "    else:\n",
    "        display(Markdown('No properties found in the selected random postal code area.'))"
   ]
  },
  {
   "cell_type": "markdown",
   "metadata": {},
   "source": [
    "## ✅ Verification Cell"
   ]
  },
  {
   "cell_type": "code",
   "execution_count": null,
   "metadata": {},
   "outputs": [],
   "source": [
    "display(Markdown('## ✅ Notebook Executed Successfully'))"
   ]
  }
 ],
 "metadata": {
  "kernelspec": {
   "display_name": "Python 3 (ipykernel)",
   "language": "python",
   "name": "python3"
  },
  "language_info": {
   "codemirror_mode": {
    "name": "ipython",
    "version": 3
   },
   "file_extension": ".py",
   "mimetype": "text/x-python",
   "name": "python",
   "nbconvert_exporter": "python",
   "pygments_lexer": "ipython3",
   "version": "3.9.13"
  }
 },
 "nbformat": 4,
 "nbformat_minor": 4
}