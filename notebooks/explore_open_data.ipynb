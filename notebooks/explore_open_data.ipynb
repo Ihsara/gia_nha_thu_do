{
 "cells": [
  {
   "cell_type": "markdown",
   "metadata": {},
   "source": [
    "# Exploration of National Land Survey Open Data"
   ]
  },
  {
   "cell_type": "markdown",
   "metadata": {},
   "source": [
    "This notebook is dedicated to exploring the open data provided by the National Land Survey of Finland, which is located in the `data/open` directory. The primary file of interest is `kiinteistorekisterikartta.gpkg`, a GeoPackage file containing the Cadastral Register Map."
   ]
  },
  {
   "cell_type": "code",
   "execution_count": null,
   "metadata": {},
   "outputs": [],
   "source": [
    "import geopandas as gpd\n",
    "import matplotlib.pyplot as plt\n",
    "import os\n",
    "from IPython.display import display, Markdown\n",
    "import fiona\n",
    "\n",
    "# --- Configuration ---\n",
    "gpkg_path = os.path.join('..', 'data', 'open', 'kiinteistorekisterikartta.gpkg')\n",
    "sample_size = 1000  # Number of features to sample for initial exploration\n",
    "\n",
    "file_exists = os.path.exists(gpkg_path)\n",
    "\n",
    "if not file_exists:\n",
    "    display(Markdown(f'## ❌ File Not Found\\nCould not find the GeoPackage file at `{os.path.abspath(gpkg_path)}`. Please ensure the file is present.'))\n",
    "else:\n",
    "    display(Markdown(f'## ✅ GeoPackage File Found\\nLocated at `{os.path.abspath(gpkg_path)}`.'))"
   ]
  },
  {
   "cell_type": "markdown",
   "metadata": {},
   "source": [
    "## Inspecting the GeoPackage Layers\n",
    "\n",
    "A GeoPackage file can contain multiple layers. Let's inspect the available layers to understand the data structure."
   ]
  },
  {
   "cell_type": "code",
   "execution_count": null,
   "metadata": {},
   "outputs": [],
   "source": [
    "if file_exists:\n",
    "    try:\n",
    "        layers = fiona.listlayers(gpkg_path)\n",
    "        display(Markdown('**Available Layers:**'))\n",
    "        display(layers)\n",
    "    except Exception as e:\n",
    "        display(Markdown(f'### Error inspecting layers: {e}'))"
   ]
  },
  {
   "cell_type": "markdown",
   "metadata": {},
   "source": [
    "## Loading a Sample of the Data\n",
    "\n",
    "The GeoPackage file is very large. To avoid memory issues, we will load a small random sample of the data from the first available layer for our initial exploration."
   ]
  },
  {
   "cell_type": "code",
   "execution_count": null,
   "metadata": {},
   "outputs": [],
   "source": [
    if file_exists and 'layers' in locals() and layers:
    for layer in layers:
        if layer == 'layer_styles':
            continue
        display(Markdown(f'### Loading a sample of **{sample_size}** features from layer: `{layer}`'))
        try:
            gdf = gpd.read_file(gpkg_path, layer=layer)
            gdf_sample = gdf.sample(n=min(sample_size, len(gdf)), random_state=42)
            display(Markdown(f'**Sample Data Head for `{layer}`:**'))
            display(gdf_sample.head())
        except Exception as e:
            display(Markdown(f'### Error loading data from layer `{layer}`: {e}'))
else:
    display(Markdown('Cannot load data: file or layers not available.'))
   ]
  },
  {
   "cell_type": "markdown",
   "metadata": {},
   "source": [
    "## Visualizing the Sampled Geospatial Data\n",
    "\n",
    "Now, let's create a simple plot of the sampled property boundaries to get a visual sense of the data."
   ]
  },
  {
   "cell_type": "code",
   "execution_count": null,
   "metadata": {},
   "outputs": [],
   "source": [
    "if 'gdf_sample' in locals():\n",
    "    try:\n",
    "        fig, ax = plt.subplots(1, 1, figsize=(12, 12))\n",
    "        gdf_sample.plot(ax=ax, edgecolor='blue', facecolor='lightblue')\n",
    "        ax.set_title(f'Sample of {sample_size} Property Boundaries')\n",
    "        ax.set_xlabel('Longitude')\n",
    "        ax.set_ylabel('Latitude')\n",
    "        plt.grid(True)\n",
    "        plt.show()\n",
    "    except Exception as e:\n",
    "        display(Markdown(f'### Error during visualization: {e}'))\n",
    "else:\n",
    "    display(Markdown('Cannot visualize: sample data not loaded.'))"
   ]
  },
  {
   "cell_type": "markdown",
   "metadata": {},
   "source": [
    "## Visualizing a Single Property"
   ]
  },
  {
   "cell_type": "code",
   "execution_count": null,
   "metadata": {},
   "outputs": [],
   "source": [
    "if 'gdf_sample' in locals():\n",
    "    # Select a random property from the sample\n",
    "    single_property = gdf_sample.sample(n=1, random_state=1)\n",
    "    display(Markdown('**Selected Property:**'))\n",
    "    display(single_property)\n",
    "\n",
    "    # Create a new plot for the single property\n",
    "    try:\n",
    "        fig, ax = plt.subplots(1, 1, figsize=(8, 8))\n",
    "        single_property.plot(ax=ax, edgecolor='red', facecolor='lightcoral')\n",
    "        \n",
    "        # Get the centroid to annotate the plot\n",
    "        centroid = single_property.geometry.centroid.iloc[0]\n",
    "        ax.annotate(f'Property ID: {single_property.index[0]}', xy=(centroid.x, centroid.y), xytext=(3, 3), textcoords='offset points')\n",
    "        \n",
    "        ax.set_title('Single Property Boundary')\n",
    "        ax.set_xlabel('Longitude')\n",
    "        ax.set_ylabel('Latitude')\n",
    "        plt.grid(True)\n",
    "        plt.show()\n",
    "    except Exception as e:\n",
    "        display(Markdown(f'### Error during visualization: {e}'))\n",
    "else:\n",
    "    display(Markdown('Cannot visualize: sample data not loaded.'))"
   ]
  }
 ],
 "metadata": {
  "kernelspec": {
   "display_name": "Python 3 (ipykernel)",
   "language": "python",
   "name": "python3"
  },
  "language_info": {
   "codemirror_mode": {
    "name": "ipython",
    "version": 3
   },
   "file_extension": ".py",
   "mimetype": "text/x-python",
   "name": "python",
   "nbconvert_exporter": "python",
   "pygments_lexer": "ipython3",
   "version": "3.9.13"
  }
 },
 "nbformat": 4,
 "nbformat_minor": 4
}