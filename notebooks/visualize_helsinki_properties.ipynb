{
 "cells": [
  {
   "cell_type": "markdown",
   "metadata": {},
   "source": [
    "# Visualization of Helsinki Properties"
   ]
  },
  {
   "cell_type": "markdown",
   "metadata": {},
   "source": [
    "This notebook visualizes the Helsinki properties that were processed and loaded into the DuckDB database by the `prepare_geospatial_data.py` script."
   ]
  },
  {
   "cell_type": "code",
   "execution_count": null,
   "metadata": {},
   "outputs": [],
   "source": [
    "import duckdb\n",
    "import geopandas as gpd\n",
    "import pandas as pd\n",
    "from shapely import wkt\n",
    "import matplotlib.pyplot as plt\n",
    "from IPython.display import display, Markdown\n",
    "import os\n",
    "\n",
    "# --- Configuration ---\n",
    "DB_PATH = os.path.join('..', 'data', 'real_estate.duckdb')\n",
    "TABLE_NAME = 'helsinki_properties'\n",
    "SAMPLE_SIZE = 10000\n",
    "\n",
    "db_exists = os.path.exists(DB_PATH)\n",
    "\n",
    "if not db_exists:\n",
    "    display(Markdown(f\"## ❌ Database Not Found\\nCould not find the database file at `{os.path.abspath(DB_PATH)}`. Please run the `prepare_geospatial_data.py` script first.\"))\n",
    "else:\n",
    "    display(Markdown(f\"## ✅ Database Found\\nLocated at `{os.path.abspath(DB_PATH)}`.\"))"
   ]
  },
  {
   "cell_type": "markdown",
   "metadata": {},
   "source": [
    "## Loading the Helsinki Properties Data"
   ]
  },
  {
   "cell_type": "code",
   "execution_count": null,
   "metadata": {},
   "outputs": [],
   "source": [
    "if db_exists:\n",
    "    try:\n",
    "        with duckdb.connect(DB_PATH) as con:\n",
    "            # Check if the table exists\n",
    "            tables = con.execute(\"SHOW TABLES;\").fetchdf()\n",
    "            if TABLE_NAME not in tables['name'].values:\n",
    "                display(Markdown(f\"## ❌ Table Not Found\\nThe table `{TABLE_NAME}` was not found in the database. Please run the `prepare_geospatial_data.py` script.\"))\n",
    "                table_exists = False\n",
    "            else:\n",
    "                table_exists = True\n",
    "                display(Markdown(f\"## ✅ Table Found\\nSuccessfully found the `{TABLE_NAME}` table.\"))\n",
    "                \n",
    "                # Load a sample of the data\n",
    "                query = f\"SELECT * FROM {TABLE_NAME} LIMIT {SAMPLE_SIZE};\"\n",
    "                df = con.execute(query).fetchdf()\n",
    "                display(Markdown(f\"Loaded a sample of **{len(df)}** properties.\"))\n",
    "                \n",
    "                # Convert WKT to geometry\n",
    "                df['geometry'] = df['geometry_wkt'].apply(wkt.loads)\n",
    "                gdf = gpd.GeoDataFrame(df, geometry='geometry')\n",
    "                \n",
    "                display(Markdown(\"**Sample Data Head:**\"))\n",
    "                display(gdf.head())\n",
    "    except Exception as e:\n",
    "        display(Markdown(f\"### Error loading data: {e}\"))"
   ]
  },
  {
   "cell_type": "markdown",
   "metadata": {},
   "source": [
    "## Visualizing the Sampled Helsinki Properties"
   ]
  },
  {
   "cell_type": "code",
   "execution_count": null,
   "metadata": {},
   "outputs": [],
   "source": [
    "if 'gdf' in locals():\n",
    "    try:\n",
    "        fig, ax = plt.subplots(1, 1, figsize=(12, 12))\n",
    "        gdf.plot(ax=ax, marker='.', markersize=1, color='blue')\n",
    "        ax.set_title(f'Sample of {len(gdf)} Helsinki Properties')\n",
    "        ax.set_xlabel('Longitude')\n",
    "        ax.set_ylabel('Latitude')\n",
    "        plt.grid(True)\n",
    "        plt.show()\n",
    "    except Exception as e:\n",
    "        display(Markdown(f\"### Error during visualization: {e}\"))\n",
    "else:\n",
    "    display(Markdown(\"Cannot visualize: data not loaded.\"))"
   ]
  }
 ],
 "metadata": {
  "kernelspec": {
   "display_name": "Python 3 (ipykernel)",
   "language": "python",
   "name": "python3"
  },
  "language_info": {
   "codemirror_mode": {
    "name": "ipython",
    "version": 3
   },
   "file_extension": ".py",
   "mimetype": "text/x-python",
   "name": "python",
   "nbconvert_exporter": "python",
   "pygments_lexer": "ipython3",
   "version": "3.9.13"
  }
 },
 "nbformat": 4,
 "nbformat_minor": 4
}