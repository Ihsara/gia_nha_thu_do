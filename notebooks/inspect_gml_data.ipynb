{
 "cells": [
  {
   "cell_type": "markdown",
   "metadata": {},
   "source": [
    "# Inspection of GML Data"
   ]
  },
  {
   "cell_type": "markdown",
   "metadata": {},
   "source": [
    "This notebook is dedicated to inspecting the GML file from the `L4134C.zip` archive to understand the unsupported geometry type."
   ]
  },
  {
   "cell_type": "code",
   "execution_count": null,
   "metadata": {},
   "outputs": [],
   "source": [
    "import fiona\n",
    "import zipfile\n",
    "import os\n",
    "import tempfile\n",
    "from IPython.display import display, Markdown\n",
    "\n",
    "# --- Configuration ---\n",
    "TOPOGRAPHY_ZIP_PATH = os.path.join('..', 'data', 'open', 'L4134C.zip')\n",
    "\n",
    "zip_exists = os.path.exists(TOPOGRAPHY_ZIP_PATH)\n",
    "\n",
    "if not zip_exists:\n",
    "    display(Markdown(f\"## ❌ Zip File Not Found\\nCould not find the zip file at `{os.path.abspath(TOPOGRAPHY_ZIP_PATH)}`.\"))\n",
    "else:\n",
    "    display(Markdown(f\"## ✅ Zip File Found\\nLocated at `{os.path.abspath(TOPOGRAPHY_ZIP_PATH)}`.\"))"
   ]
  },
  {
   "cell_type": "markdown",
   "metadata": {},
   "source": [
    "## Inspecting the GML File"
   ]
  },
  {
   "cell_type": "code",
   "execution_count": null,
   "metadata": {},
   "outputs": [],
   "source": [
    "if zip_exists:\n",
    "    with tempfile.TemporaryDirectory() as temp_dir:\n",
    "        with zipfile.ZipFile(TOPOGRAPHY_ZIP_PATH, 'r') as zip_ref:\n",
    "            zip_ref.extractall(temp_dir)\n",
    "        \n",
    "        gml_path = None\n",
    "        for root, _, files in os.walk(temp_dir):\n",
    "            for file in files:\n",
    "                if file.endswith('.gml'):\n",
    "                    gml_path = os.path.join(root, file)\n",
    "                    break\n",
    "            if gml_path:\n",
    "                break\n",
    "        \n",
    "        if not gml_path:\n",
    "            display(Markdown(\"## ❌ GML File Not Found\\nCould not find a GML file in the extracted archive.\"))\n",
    "        else:\n",
    "            display(Markdown(f\"## ✅ GML File Found\\nLocated at `{gml_path}`.\"))\n",
    "            \n",
    "            try:\n",
    "                with fiona.open(gml_path, 'r') as source:\n",
    "                    display(Markdown(\"**Schema:**\"))\n",
    "                    display(source.schema)\n",
    "                    \n",
    "                    # Print the first feature to inspect its geometry\n",
    "                    first_feature = next(iter(source))\n",
    "                    display(Markdown(\"**First Feature:**\"))\n",
    "                    display(first_feature)\n",
    "            except Exception as e:\n",
    "                display(Markdown(f\"### Error inspecting GML file: {e}\"))"
   ]
  },
  {
   "cell_type": "markdown",
   "metadata": {},
   "source": [
    "## ✅ Verification Cell"
   ]
  },
  {
   "cell_type": "code",
   "execution_count": null,
   "metadata": {},
   "outputs": [],
   "source": [
    "display(Markdown('## ✅ Notebook Executed Successfully'))"
   ]
  }
 ],
 "metadata": {
  "kernelspec": {
   "display_name": "Python 3 (ipykernel)",
   "language": "python",
   "name": "python3"
  },
  "language_info": {
   "codemirror_mode": {
    "name": "ipython",
    "version": 3
   },
   "file_extension": ".py",
   "mimetype": "text/x-python",
   "name": "python",
   "nbconvert_exporter": "python",
   "pygments_lexer": "ipython3",
   "version": "3.9.13"
  }
 },
 "nbformat": 4,
 "nbformat_minor": 4
}
